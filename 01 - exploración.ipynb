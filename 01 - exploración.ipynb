{
 "cells": [
  {
   "cell_type": "markdown",
   "id": "875fa642",
   "metadata": {},
   "source": [
    "# 01 - Exploración de Datos\n",
    "\n",
    "Este notebook presenta la exploración inicial del dataset de indicadores de salud para predicción de diabetes."
   ]
  },
  {
   "cell_type": "code",
   "execution_count": null,
   "id": "1905e27e",
   "metadata": {},
   "outputs": [],
   "source": [
    "import pandas as pd\n",
    "import matplotlib.pyplot as plt\n",
    "import seaborn as sns\n",
    "import numpy as np\n",
    "\n",
    "# Configuración visual\n",
    "sns.set(style='whitegrid')\n",
    "plt.rcParams['figure.figsize'] = (10, 6)\n"
   ]
  },
  {
   "cell_type": "code",
   "execution_count": null,
   "id": "e1dc736f",
   "metadata": {},
   "outputs": [],
   "source": [
    "# Cargar el dataset\n",
    "df = pd.read_csv(\"06 - dataset.csv\")\n",
    "df.head()"
   ]
  },
  {
   "cell_type": "code",
   "execution_count": null,
   "id": "4d34bd6c",
   "metadata": {},
   "outputs": [],
   "source": [
    "# Dimensiones del dataset\n",
    "print(f\"Filas: {df.shape[0]}, Columnas: {df.shape[1]}\")\n",
    "\n",
    "# Tipos de datos y nulos\n",
    "df.info()\n",
    "\n",
    "# Porcentaje de valores nulos por columna\n",
    "print(\"\\nPorcentaje de valores faltantes por columna:\")\n",
    "print((df.isnull().sum() / len(df)) * 100)"
   ]
  },
  {
   "cell_type": "code",
   "execution_count": null,
   "id": "8ce330be",
   "metadata": {},
   "outputs": [],
   "source": [
    "# Estadísticas descriptivas\n",
    "df.describe()"
   ]
  },
  {
   "cell_type": "code",
   "execution_count": null,
   "id": "8d64ce93",
   "metadata": {},
   "outputs": [],
   "source": [
    "# Histogramas de variables numéricas\n",
    "df.hist(bins=20, edgecolor='black', figsize=(15, 12))\n",
    "plt.tight_layout()\n",
    "plt.show()"
   ]
  },
  {
   "cell_type": "code",
   "execution_count": null,
   "id": "e02afdfa",
   "metadata": {},
   "outputs": [],
   "source": [
    "# Matriz de correlación\n",
    "plt.figure(figsize=(12,10))\n",
    "sns.heatmap(df.corr(), annot=True, fmt=\".2f\", cmap=\"coolwarm\", square=True)\n",
    "plt.title(\"Matriz de Correlación\")\n",
    "plt.show()"
   ]
  }
 ],
 "metadata": {},
 "nbformat": 4,
 "nbformat_minor": 5
}
