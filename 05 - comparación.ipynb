{
 "cells": [
  {
   "cell_type": "code",
   "metadata": {},
   "source": [
    "from sklearn.metrics import accuracy_score, cohen_kappa_score\n",
    "\n",
    "# Suponiendo que y_test, y_pred_rf, y_pred_xgb están disponibles\n",
    "acc_rf = accuracy_score(y_test, y_pred_rf)\n",
    "acc_xgb = accuracy_score(y_test, y_pred_xgb)\n",
    "kappa = cohen_kappa_score(y_pred_rf, y_pred_xgb)\n",
    "\n",
    "print(f'Precisión - Random Forest: {acc_rf:.4f}')\n",
    "print(f'Precisión - XGBoost: {acc_xgb:.4f}')\n",
    "print(f'Índice de Kappa entre modelos: {kappa:.4f}')\n",
    "\n",
    "if acc_xgb > acc_rf:\n",
    "    print('Recomendación: El modelo XGBoost tiene mejor desempeño para predecir la diabetes tipo 2.')\n",
    "else:\n",
    "    print('Recomendación: El modelo Random Forest tiene mejor desempeño para predecir la diabetes tipo 2.')"
   ]
  }
 ],
 "metadata": {},
 "nbformat": 4,
 "nbformat_minor": 2
}