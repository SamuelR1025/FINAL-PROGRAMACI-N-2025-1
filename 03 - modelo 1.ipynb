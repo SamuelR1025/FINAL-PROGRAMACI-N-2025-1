{
 "cells": [
  {
   "cell_type": "markdown",
   "id": "06513d57",
   "metadata": {},
   "source": [
    "# 03 - Modelo 1: Random Forest\n",
    "\n",
    "Este notebook entrena un modelo Random Forest para predecir la presencia de diabetes."
   ]
  },
  {
   "cell_type": "code",
   "execution_count": null,
   "id": "ed5094d8",
   "metadata": {},
   "outputs": [],
   "source": [
    "import pandas as pd\n",
    "from sklearn.ensemble import RandomForestClassifier\n",
    "from sklearn.model_selection import train_test_split, GridSearchCV\n",
    "from sklearn.metrics import classification_report, confusion_matrix, ConfusionMatrixDisplay\n",
    "import matplotlib.pyplot as plt\n",
    "from sklearn.preprocessing import StandardScaler\n",
    "from sklearn.impute import SimpleImputer\n",
    "import numpy as np\n",
    "\n",
    "# Cargar datos\n",
    "df = pd.read_csv(\"06 - dataset.csv\")\n",
    "\n",
    "# Imputación\n",
    "imputer = SimpleImputer(strategy='median')\n",
    "df[df.columns] = imputer.fit_transform(df)\n",
    "\n",
    "# Separar variables\n",
    "X = df.drop(\"Diabetes_binary\", axis=1)\n",
    "y = df[\"Diabetes_binary\"]\n",
    "\n",
    "# Escalar\n",
    "scaler = StandardScaler()\n",
    "X_scaled = scaler.fit_transform(X)\n",
    "\n",
    "# División\n",
    "X_train, X_test, y_train, y_test = train_test_split(X_scaled, y, test_size=0.2, random_state=42)"
   ]
  },
  {
   "cell_type": "code",
   "execution_count": null,
   "id": "4b2377ff",
   "metadata": {},
   "outputs": [],
   "source": [
    "# Definir el modelo y los parámetros\n",
    "clf = RandomForestClassifier(random_state=42)\n",
    "param_grid = {\n",
    "    'n_estimators': [50, 100],\n",
    "    'max_depth': [5, 10, None],\n",
    "    'min_samples_split': [2, 5]\n",
    "}\n",
    "\n",
    "# GridSearchCV\n",
    "grid_search = GridSearchCV(clf, param_grid, cv=3, scoring='f1', n_jobs=-1)\n",
    "grid_search.fit(X_train, y_train)\n",
    "\n",
    "# Mejor modelo\n",
    "best_model = grid_search.best_estimator_\n",
    "print(\"Mejores hiperparámetros:\", grid_search.best_params_)"
   ]
  },
  {
   "cell_type": "code",
   "execution_count": null,
   "id": "fdc2063a",
   "metadata": {},
   "outputs": [],
   "source": [
    "# Evaluación del modelo\n",
    "y_pred = best_model.predict(X_test)\n",
    "print(\"Classification Report:\")\n",
    "print(classification_report(y_test, y_pred))\n",
    "\n",
    "# Matriz de confusión\n",
    "cm = confusion_matrix(y_test, y_pred)\n",
    "disp = ConfusionMatrixDisplay(confusion_matrix=cm)\n",
    "disp.plot()\n",
    "plt.title(\"Matriz de Confusión - Random Forest\")\n",
    "plt.show()"
   ]
  }
 ],
 "metadata": {},
 "nbformat": 4,
 "nbformat_minor": 5
}
